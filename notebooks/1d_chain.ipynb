{
 "cells": [
  {
   "cell_type": "code",
   "execution_count": 9,
   "id": "initial_id",
   "metadata": {
    "ExecuteTime": {
     "end_time": "2023-09-21T08:38:51.803908Z",
     "start_time": "2023-09-21T08:38:51.794497Z"
    },
    "collapsed": true
   },
   "outputs": [],
   "source": [
    "import itertools\n",
    "\n",
    "import cirq\n",
    "import numpy as np\n",
    "import sys\n",
    "sys.path.append(\"..\")\n",
    "\n",
    "from sim.circuit import gen_1d_chain_xeb_random_circuit\n",
    "from sim.simulate import large_scale_xeb_sim"
   ]
  },
  {
   "cell_type": "code",
   "execution_count": 15,
   "id": "82d172af",
   "metadata": {},
   "outputs": [],
   "source": [
    "exponents = np.linspace(0, 7/4, 8)\n",
    "SINGLE_QUBIT_GATES = tuple(\n",
    "    cirq.PhasedXZGate(x_exponent=0.5, z_exponent=z, axis_phase_exponent=a)\n",
    "    for a, z in itertools.product(exponents, repeat=2)\n",
    ")\n",
    "\n",
    "MAX_DEPTH = 400\n",
    "cycle_depths = list(range(1, 21)) + [25, 35, 40]\n",
    "e_pauli = 1e-2\n",
    "e_dep = e_pauli / (1 - 1/2**2)\n",
    "noise_model = cirq.devices.noise_model.ConstantQubitNoiseModel(cirq.depolarize(e_pauli))\n",
    "save_resume_filepath = \"/home/cuquantum/xebsim/result/1d_chain/result.csv\""
   ]
  },
  {
   "cell_type": "code",
   "execution_count": 16,
   "id": "b3805bc4b318a41f",
   "metadata": {
    "ExecuteTime": {
     "end_time": "2023-09-21T08:42:38.119342Z",
     "start_time": "2023-09-21T08:41:22.965671Z"
    },
    "collapsed": false
   },
   "outputs": [
    {
     "name": "stderr",
     "output_type": "stream",
     "text": [
      "6 qubits pure state simulation: 100%|██████████| 81/81 [00:00<00:00, 1426.17it/s]\n",
      "6 qubits noisy state simulation: 100%|██████████| 81/81 [00:00<00:00, 108.95it/s]\n",
      "6 qubits pure state simulation: 100%|██████████| 81/81 [00:00<00:00, 1231.48it/s]\n",
      "6 qubits noisy state simulation: 100%|██████████| 81/81 [00:00<00:00, 112.00it/s]\n",
      "6 qubits pure state simulation: 100%|██████████| 81/81 [00:00<00:00, 1231.10it/s]\n",
      "6 qubits noisy state simulation: 100%|██████████| 81/81 [00:00<00:00, 121.17it/s]\n",
      "6 qubits pure state simulation: 100%|██████████| 81/81 [00:00<00:00, 1494.78it/s]\n",
      "6 qubits noisy state simulation: 100%|██████████| 81/81 [00:00<00:00, 127.69it/s]\n",
      "6 qubits pure state simulation: 100%|██████████| 81/81 [00:00<00:00, 1547.56it/s]\n",
      "6 qubits noisy state simulation: 100%|██████████| 81/81 [00:00<00:00, 144.68it/s]\n",
      "6 qubits pure state simulation: 100%|██████████| 81/81 [00:00<00:00, 1526.24it/s]\n",
      "6 qubits noisy state simulation: 100%|██████████| 81/81 [00:00<00:00, 144.72it/s]\n",
      "6 qubits pure state simulation: 100%|██████████| 81/81 [00:00<00:00, 1411.94it/s]\n",
      "6 qubits noisy state simulation: 100%|██████████| 81/81 [00:00<00:00, 143.67it/s]\n",
      "6 qubits pure state simulation: 100%|██████████| 81/81 [00:00<00:00, 1523.80it/s]\n",
      "6 qubits noisy state simulation: 100%|██████████| 81/81 [00:00<00:00, 144.76it/s]\n",
      "6 qubits pure state simulation: 100%|██████████| 81/81 [00:00<00:00, 1527.05it/s]\n",
      "6 qubits noisy state simulation: 100%|██████████| 81/81 [00:00<00:00, 145.11it/s]\n",
      "6 qubits pure state simulation: 100%|██████████| 81/81 [00:00<00:00, 1528.74it/s]\n",
      "6 qubits noisy state simulation: 100%|██████████| 81/81 [00:00<00:00, 144.50it/s]\n",
      "8 qubits pure state simulation: 100%|██████████| 81/81 [00:00<00:00, 1112.11it/s]\n",
      "8 qubits noisy state simulation: 100%|██████████| 81/81 [00:03<00:00, 21.46it/s]\n",
      "8 qubits pure state simulation: 100%|██████████| 81/81 [00:00<00:00, 1129.31it/s]\n",
      "8 qubits noisy state simulation: 100%|██████████| 81/81 [00:04<00:00, 20.21it/s]\n",
      "8 qubits pure state simulation: 100%|██████████| 81/81 [00:00<00:00, 1124.06it/s]\n",
      "8 qubits noisy state simulation: 100%|██████████| 81/81 [00:03<00:00, 20.40it/s]\n",
      "8 qubits pure state simulation: 100%|██████████| 81/81 [00:00<00:00, 1121.75it/s]\n",
      "8 qubits noisy state simulation: 100%|██████████| 81/81 [00:03<00:00, 21.22it/s]\n",
      "8 qubits pure state simulation: 100%|██████████| 81/81 [00:00<00:00, 1136.45it/s]\n",
      "8 qubits noisy state simulation: 100%|██████████| 81/81 [00:03<00:00, 21.27it/s]\n",
      "8 qubits pure state simulation: 100%|██████████| 81/81 [00:00<00:00, 1121.99it/s]\n",
      "8 qubits noisy state simulation: 100%|██████████| 81/81 [00:03<00:00, 21.29it/s]\n",
      "8 qubits pure state simulation: 100%|██████████| 81/81 [00:00<00:00, 1130.21it/s]\n",
      "8 qubits noisy state simulation: 100%|██████████| 81/81 [00:03<00:00, 20.58it/s]\n",
      "8 qubits pure state simulation: 100%|██████████| 81/81 [00:00<00:00, 1131.56it/s]\n",
      "8 qubits noisy state simulation: 100%|██████████| 81/81 [00:03<00:00, 21.38it/s]\n",
      "8 qubits pure state simulation: 100%|██████████| 81/81 [00:00<00:00, 1132.42it/s]\n",
      "8 qubits noisy state simulation: 100%|██████████| 81/81 [00:03<00:00, 21.35it/s]\n",
      "8 qubits pure state simulation: 100%|██████████| 81/81 [00:00<00:00, 828.56it/s]\n",
      "8 qubits noisy state simulation: 100%|██████████| 81/81 [00:03<00:00, 20.67it/s]\n",
      "10 qubits pure state simulation: 100%|██████████| 81/81 [00:00<00:00, 827.93it/s]\n",
      "10 qubits noisy state simulation: 100%|██████████| 81/81 [01:10<00:00,  1.15it/s]\n",
      "10 qubits pure state simulation: 100%|██████████| 81/81 [00:00<00:00, 837.53it/s]\n",
      "10 qubits noisy state simulation: 100%|██████████| 81/81 [01:10<00:00,  1.15it/s]\n",
      "10 qubits pure state simulation: 100%|██████████| 81/81 [00:00<00:00, 844.77it/s]\n",
      "10 qubits noisy state simulation: 100%|██████████| 81/81 [01:10<00:00,  1.14it/s]\n",
      "10 qubits pure state simulation: 100%|██████████| 81/81 [00:00<00:00, 845.84it/s]\n",
      "10 qubits noisy state simulation: 100%|██████████| 81/81 [01:10<00:00,  1.15it/s]\n",
      "10 qubits pure state simulation: 100%|██████████| 81/81 [00:00<00:00, 854.65it/s]\n",
      "10 qubits noisy state simulation: 100%|██████████| 81/81 [01:10<00:00,  1.16it/s]\n",
      "10 qubits pure state simulation: 100%|██████████| 81/81 [00:00<00:00, 841.18it/s]\n",
      "10 qubits noisy state simulation: 100%|██████████| 81/81 [01:10<00:00,  1.16it/s]\n",
      "10 qubits pure state simulation: 100%|██████████| 81/81 [00:00<00:00, 837.92it/s]\n",
      "10 qubits noisy state simulation: 100%|██████████| 81/81 [01:09<00:00,  1.16it/s]\n",
      "10 qubits pure state simulation: 100%|██████████| 81/81 [00:00<00:00, 843.82it/s]\n",
      "10 qubits noisy state simulation: 100%|██████████| 81/81 [01:10<00:00,  1.14it/s]\n",
      "10 qubits pure state simulation: 100%|██████████| 81/81 [00:00<00:00, 846.01it/s]\n",
      "10 qubits noisy state simulation: 100%|██████████| 81/81 [01:11<00:00,  1.14it/s]\n",
      "10 qubits pure state simulation: 100%|██████████| 81/81 [00:00<00:00, 837.71it/s]\n",
      "10 qubits noisy state simulation: 100%|██████████| 81/81 [01:10<00:00,  1.16it/s]\n"
     ]
    }
   ],
   "source": [
    "res = {}\n",
    "ns = [6, 8, 10]\n",
    "# ns = [12]\n",
    "n_circuits = 10\n",
    "for n in ns:\n",
    "    qubits = cirq.LineQubit.range(n)\n",
    "    circuits = [\n",
    "        gen_1d_chain_xeb_random_circuit(\n",
    "            qubits,\n",
    "            depth=MAX_DEPTH,\n",
    "            single_qubit_gates=SINGLE_QUBIT_GATES,\n",
    "            two_qubit_op_factory=lambda a, b, _: cirq.SQRT_ISWAP(a, b)\n",
    "        )\n",
    "        for _ in range(n_circuits)\n",
    "    ]\n",
    "\n",
    "    cycle_xebs = [\n",
    "        large_scale_xeb_sim(circuit, noise_model, cycle_depths=cycle_depths)\n",
    "        for circuit in circuits\n",
    "    ]\n",
    "    res[n] = cycle_xebs"
   ]
  },
  {
   "cell_type": "code",
   "execution_count": 1,
   "id": "ffe1a3e7c205d23d",
   "metadata": {
    "ExecuteTime": {
     "end_time": "2023-09-21T08:21:39.944577Z",
     "start_time": "2023-09-21T08:21:39.792124Z"
    },
    "collapsed": false
   },
   "outputs": [
    {
     "ename": "NameError",
     "evalue": "name 'ns' is not defined",
     "output_type": "error",
     "traceback": [
      "\u001b[0;31m---------------------------------------------------------------------------\u001b[0m",
      "\u001b[0;31mNameError\u001b[0m                                 Traceback (most recent call last)",
      "\u001b[1;32m/home/cuquantum/xebsim/notebooks/1d_chain.ipynb 单元格 4\u001b[0m line \u001b[0;36m3\n\u001b[1;32m      <a href='vscode-notebook-cell://attached-container%2B7b22636f6e7461696e65724e616d65223a222f65637374617469635f63686174656c6574222c2273657474696e6773223a7b22686f7374223a227373683a2f2f3137322e31362e33302e313837227d7d/home/cuquantum/xebsim/notebooks/1d_chain.ipynb#W3sdnNjb2RlLXJlbW90ZQ%3D%3D?line=0'>1</a>\u001b[0m \u001b[39mimport\u001b[39;00m \u001b[39mmatplotlib\u001b[39;00m\u001b[39m.\u001b[39;00m\u001b[39mpyplot\u001b[39;00m \u001b[39mas\u001b[39;00m \u001b[39mplt\u001b[39;00m\n\u001b[0;32m----> <a href='vscode-notebook-cell://attached-container%2B7b22636f6e7461696e65724e616d65223a222f65637374617469635f63686174656c6574222c2273657474696e6773223a7b22686f7374223a227373683a2f2f3137322e31362e33302e313837227d7d/home/cuquantum/xebsim/notebooks/1d_chain.ipynb#W3sdnNjb2RlLXJlbW90ZQ%3D%3D?line=2'>3</a>\u001b[0m \u001b[39mfor\u001b[39;00m n \u001b[39min\u001b[39;00m ns:\n\u001b[1;32m      <a href='vscode-notebook-cell://attached-container%2B7b22636f6e7461696e65724e616d65223a222f65637374617469635f63686174656c6574222c2273657474696e6773223a7b22686f7374223a227373683a2f2f3137322e31362e33302e313837227d7d/home/cuquantum/xebsim/notebooks/1d_chain.ipynb#W3sdnNjb2RlLXJlbW90ZQ%3D%3D?line=3'>4</a>\u001b[0m     cycle_xebs \u001b[39m=\u001b[39m np\u001b[39m.\u001b[39mmean(res[n], axis\u001b[39m=\u001b[39m\u001b[39m0\u001b[39m)\n\u001b[1;32m      <a href='vscode-notebook-cell://attached-container%2B7b22636f6e7461696e65724e616d65223a222f65637374617469635f63686174656c6574222c2273657474696e6773223a7b22686f7374223a227373683a2f2f3137322e31362e33302e313837227d7d/home/cuquantum/xebsim/notebooks/1d_chain.ipynb#W3sdnNjb2RlLXJlbW90ZQ%3D%3D?line=4'>5</a>\u001b[0m     plt\u001b[39m.\u001b[39mplot(cycle_depths, cycle_xebs, label\u001b[39m=\u001b[39m\u001b[39mf\u001b[39m\u001b[39m'\u001b[39m\u001b[39m{\u001b[39;00mn\u001b[39m}\u001b[39;00m\u001b[39m qubits\u001b[39m\u001b[39m'\u001b[39m, marker\u001b[39m=\u001b[39m\u001b[39m'\u001b[39m\u001b[39mo\u001b[39m\u001b[39m'\u001b[39m)\n",
      "\u001b[0;31mNameError\u001b[0m: name 'ns' is not defined"
     ]
    }
   ],
   "source": [
    "import matplotlib.pyplot as plt\n",
    "\n",
    "for n in ns:\n",
    "    cycle_xebs = np.mean(res[n], axis=0)\n",
    "    plt.plot(cycle_depths, cycle_xebs, label=f'{n} qubits', marker='o')\n",
    "plt.yscale('log')\n",
    "plt.yticks(np.logspace(-2, 4, num=7))\n",
    "plt.legend()\n",
    "plt.title('1D chain')\n",
    "plt.xlabel(\"Depth\")\n",
    "plt.ylabel(\"Linear XEB\")\n",
    "plt.show()\n"
   ]
  },
  {
   "cell_type": "code",
   "execution_count": 8,
   "id": "e9c65e68",
   "metadata": {},
   "outputs": [
    {
     "data": {
      "text/plain": [
       "array([[1.        +0.j        , 0.        +0.j        ,\n",
       "        0.        +0.j        , 0.        +0.j        ],\n",
       "       [0.        +0.j        , 0.70710678+0.j        ,\n",
       "        0.        +0.70710678j, 0.        +0.j        ],\n",
       "       [0.        +0.j        , 0.        +0.70710678j,\n",
       "        0.70710678+0.j        , 0.        +0.j        ],\n",
       "       [0.        +0.j        , 0.        +0.j        ,\n",
       "        0.        +0.j        , 1.        +0.j        ]])"
      ]
     },
     "execution_count": 8,
     "metadata": {},
     "output_type": "execute_result"
    }
   ],
   "source": [
    "gate = cirq.SQRT_ISWAP\n",
    "cirq.unitary(gate)"
   ]
  }
 ],
 "metadata": {
  "kernelspec": {
   "display_name": "Python 3",
   "language": "python",
   "name": "python3"
  },
  "language_info": {
   "codemirror_mode": {
    "name": "ipython",
    "version": 3
   },
   "file_extension": ".py",
   "mimetype": "text/x-python",
   "name": "python",
   "nbconvert_exporter": "python",
   "pygments_lexer": "ipython3",
   "version": "3.9.16"
  }
 },
 "nbformat": 4,
 "nbformat_minor": 5
}
