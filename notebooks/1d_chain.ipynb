{
 "cells": [
  {
   "cell_type": "code",
   "execution_count": 1,
   "id": "initial_id",
   "metadata": {
    "ExecuteTime": {
     "end_time": "2023-09-21T08:38:51.803908Z",
     "start_time": "2023-09-21T08:38:51.794497Z"
    },
    "collapsed": true
   },
   "outputs": [],
   "source": [
    "import itertools\n",
    "\n",
    "import cirq\n",
    "import numpy as np\n",
    "import sys\n",
    "sys.path.append(\"..\")\n",
    "\n",
    "from sim.circuit import gen_1d_chain_xeb_random_circuit\n",
    "from sim.simulate import large_scale_xeb_sim"
   ]
  },
  {
   "cell_type": "code",
   "execution_count": 2,
   "id": "82d172af",
   "metadata": {},
   "outputs": [],
   "source": [
    "exponents = np.linspace(0, 7/4, 8)\n",
    "SINGLE_QUBIT_GATES = tuple(\n",
    "    cirq.PhasedXZGate(x_exponent=0.5, z_exponent=z, axis_phase_exponent=a)\n",
    "    for a, z in itertools.product(exponents, repeat=2)\n",
    ")\n",
    "\n",
    "MAX_DEPTH = 400\n",
    "cycle_depths = list(range(1, 21)) + [25, 35, 40]\n",
    "e_pauli = 1e-2\n",
    "e_dep = e_pauli / (1 - 1/2**2)\n",
    "noise_model = cirq.devices.noise_model.ConstantQubitNoiseModel(cirq.depolarize(e_pauli))\n",
    "save_resume_filepath = \"/home/cuquantum/xebsim/result/1d_chain/result.csv\""
   ]
  },
  {
   "cell_type": "code",
   "execution_count": 3,
   "id": "b3805bc4b318a41f",
   "metadata": {
    "ExecuteTime": {
     "end_time": "2023-09-21T08:42:38.119342Z",
     "start_time": "2023-09-21T08:41:22.965671Z"
    },
    "collapsed": false
   },
   "outputs": [
    {
     "name": "stderr",
     "output_type": "stream",
     "text": [
      "6 qubits pure state simulation: 100%|██████████| 81/81 [00:00<00:00, 1521.15it/s]\n",
      "6 qubits noisy state simulation: 100%|██████████| 81/81 [00:00<00:00, 161.04it/s]\n",
      "6 qubits pure state simulation: 100%|██████████| 81/81 [00:00<00:00, 1541.01it/s]\n",
      "6 qubits noisy state simulation: 100%|██████████| 81/81 [00:00<00:00, 156.41it/s]\n",
      "6 qubits pure state simulation: 100%|██████████| 81/81 [00:00<00:00, 1557.83it/s]\n",
      "6 qubits noisy state simulation: 100%|██████████| 81/81 [00:00<00:00, 158.48it/s]\n",
      "6 qubits pure state simulation: 100%|██████████| 81/81 [00:00<00:00, 1530.09it/s]\n",
      "6 qubits noisy state simulation: 100%|██████████| 81/81 [00:00<00:00, 161.38it/s]\n",
      "6 qubits pure state simulation: 100%|██████████| 81/81 [00:00<00:00, 1495.68it/s]\n",
      "6 qubits noisy state simulation: 100%|██████████| 81/81 [00:00<00:00, 161.11it/s]\n",
      "6 qubits pure state simulation: 100%|██████████| 81/81 [00:00<00:00, 1603.50it/s]\n",
      "6 qubits noisy state simulation: 100%|██████████| 81/81 [00:00<00:00, 158.72it/s]\n",
      "6 qubits pure state simulation: 100%|██████████| 81/81 [00:00<00:00, 1534.54it/s]\n",
      "6 qubits noisy state simulation: 100%|██████████| 81/81 [00:00<00:00, 141.85it/s]\n",
      "6 qubits pure state simulation: 100%|██████████| 81/81 [00:00<00:00, 1587.33it/s]\n",
      "6 qubits noisy state simulation: 100%|██████████| 81/81 [00:00<00:00, 161.40it/s]\n",
      "6 qubits pure state simulation: 100%|██████████| 81/81 [00:00<00:00, 1539.79it/s]\n",
      "6 qubits noisy state simulation: 100%|██████████| 81/81 [00:00<00:00, 159.79it/s]\n",
      "6 qubits pure state simulation: 100%|██████████| 81/81 [00:00<00:00, 1622.11it/s]\n",
      "6 qubits noisy state simulation: 100%|██████████| 81/81 [00:00<00:00, 161.98it/s]\n",
      "8 qubits pure state simulation: 100%|██████████| 81/81 [00:00<00:00, 1189.97it/s]\n",
      "8 qubits noisy state simulation:  86%|████████▋ | 70/81 [00:02<00:00, 31.06it/s]\n"
     ]
    },
    {
     "ename": "KeyboardInterrupt",
     "evalue": "",
     "output_type": "error",
     "traceback": [
      "\u001b[0;31m---------------------------------------------------------------------------\u001b[0m",
      "\u001b[0;31mKeyboardInterrupt\u001b[0m                         Traceback (most recent call last)",
      "Cell \u001b[0;32mIn[3], line 17\u001b[0m\n\u001b[1;32m      6\u001b[0m qubits \u001b[39m=\u001b[39m cirq\u001b[39m.\u001b[39mLineQubit\u001b[39m.\u001b[39mrange(n)\n\u001b[1;32m      7\u001b[0m circuits \u001b[39m=\u001b[39m [\n\u001b[1;32m      8\u001b[0m     gen_1d_chain_xeb_random_circuit(\n\u001b[1;32m      9\u001b[0m         qubits,\n\u001b[0;32m   (...)\u001b[0m\n\u001b[1;32m     14\u001b[0m     \u001b[39mfor\u001b[39;00m _ \u001b[39min\u001b[39;00m \u001b[39mrange\u001b[39m(n_circuits)\n\u001b[1;32m     15\u001b[0m ]\n\u001b[0;32m---> 17\u001b[0m cycle_xebs \u001b[39m=\u001b[39m [\n\u001b[1;32m     18\u001b[0m     large_scale_xeb_sim(circuit, noise_model, cycle_depths\u001b[39m=\u001b[39;49mcycle_depths)\n\u001b[1;32m     19\u001b[0m     \u001b[39mfor\u001b[39;49;00m circuit \u001b[39min\u001b[39;49;00m circuits\n\u001b[1;32m     20\u001b[0m ]\n\u001b[1;32m     21\u001b[0m res[n] \u001b[39m=\u001b[39m cycle_xebs\n",
      "Cell \u001b[0;32mIn[3], line 18\u001b[0m, in \u001b[0;36m<listcomp>\u001b[0;34m(.0)\u001b[0m\n\u001b[1;32m      6\u001b[0m qubits \u001b[39m=\u001b[39m cirq\u001b[39m.\u001b[39mLineQubit\u001b[39m.\u001b[39mrange(n)\n\u001b[1;32m      7\u001b[0m circuits \u001b[39m=\u001b[39m [\n\u001b[1;32m      8\u001b[0m     gen_1d_chain_xeb_random_circuit(\n\u001b[1;32m      9\u001b[0m         qubits,\n\u001b[0;32m   (...)\u001b[0m\n\u001b[1;32m     14\u001b[0m     \u001b[39mfor\u001b[39;00m _ \u001b[39min\u001b[39;00m \u001b[39mrange\u001b[39m(n_circuits)\n\u001b[1;32m     15\u001b[0m ]\n\u001b[1;32m     17\u001b[0m cycle_xebs \u001b[39m=\u001b[39m [\n\u001b[0;32m---> 18\u001b[0m     large_scale_xeb_sim(circuit, noise_model, cycle_depths\u001b[39m=\u001b[39;49mcycle_depths)\n\u001b[1;32m     19\u001b[0m     \u001b[39mfor\u001b[39;00m circuit \u001b[39min\u001b[39;00m circuits\n\u001b[1;32m     20\u001b[0m ]\n\u001b[1;32m     21\u001b[0m res[n] \u001b[39m=\u001b[39m cycle_xebs\n",
      "File \u001b[0;32m/media/disk/Supremacy/xebsim/notebooks/../sim/simulate.py:107\u001b[0m, in \u001b[0;36mlarge_scale_xeb_sim\u001b[0;34m(circuit, noise_model, cycle_depths, cycle_to_circuit_depth_func)\u001b[0m\n\u001b[1;32m    104\u001b[0m     pure_step_results\u001b[39m.\u001b[39mappend(np\u001b[39m.\u001b[39mabs(res\u001b[39m.\u001b[39mstate_vector()) \u001b[39m*\u001b[39m\u001b[39m*\u001b[39m \u001b[39m2\u001b[39m)\n\u001b[1;32m    106\u001b[0m noisy_step_results \u001b[39m=\u001b[39m []\n\u001b[0;32m--> 107\u001b[0m \u001b[39mfor\u001b[39;00m res \u001b[39min\u001b[39;00m tqdm\u001b[39m.\u001b[39mtqdm(\n\u001b[1;32m    108\u001b[0m         noisy_sim\u001b[39m.\u001b[39msimulate_moment_steps(circuit),\n\u001b[1;32m    109\u001b[0m         total\u001b[39m=\u001b[39m\u001b[39mlen\u001b[39m(circuit),\n\u001b[1;32m    110\u001b[0m         desc\u001b[39m=\u001b[39m\u001b[39mf\u001b[39m\u001b[39m\"\u001b[39m\u001b[39m{\u001b[39;00mn\u001b[39m}\u001b[39;00m\u001b[39m qubits noisy state simulation\u001b[39m\u001b[39m\"\u001b[39m\n\u001b[1;32m    111\u001b[0m ):\n\u001b[1;32m    112\u001b[0m     noisy_step_results\u001b[39m.\u001b[39mappend(np\u001b[39m.\u001b[39mabs(np\u001b[39m.\u001b[39mdiag(res\u001b[39m.\u001b[39mdensity_matrix(copy\u001b[39m=\u001b[39m\u001b[39mFalse\u001b[39;00m))))\n\u001b[1;32m    114\u001b[0m xeb_results \u001b[39m=\u001b[39m []\n",
      "File \u001b[0;32m/media/disk/Supremacy/xebsim/.venv/lib/python3.11/site-packages/tqdm/std.py:1182\u001b[0m, in \u001b[0;36mtqdm.__iter__\u001b[0;34m(self)\u001b[0m\n\u001b[1;32m   1179\u001b[0m time \u001b[39m=\u001b[39m \u001b[39mself\u001b[39m\u001b[39m.\u001b[39m_time\n\u001b[1;32m   1181\u001b[0m \u001b[39mtry\u001b[39;00m:\n\u001b[0;32m-> 1182\u001b[0m     \u001b[39mfor\u001b[39;00m obj \u001b[39min\u001b[39;00m iterable:\n\u001b[1;32m   1183\u001b[0m         \u001b[39myield\u001b[39;00m obj\n\u001b[1;32m   1184\u001b[0m         \u001b[39m# Update and possibly print the progressbar.\u001b[39;00m\n\u001b[1;32m   1185\u001b[0m         \u001b[39m# Note: does not call self.update(1) for speed optimisation.\u001b[39;00m\n",
      "File \u001b[0;32m/media/disk/Supremacy/xebsim/.venv/lib/python3.11/site-packages/cirq/sim/simulator_base.py:220\u001b[0m, in \u001b[0;36mSimulatorBase._core_iterator\u001b[0;34m(self, circuit, sim_state, all_measurements_are_terminal)\u001b[0m\n\u001b[1;32m    217\u001b[0m             \u001b[39mcontinue\u001b[39;00m\n\u001b[1;32m    219\u001b[0m     \u001b[39m# Simulate the operation\u001b[39;00m\n\u001b[0;32m--> 220\u001b[0m     protocols\u001b[39m.\u001b[39;49mact_on(op, sim_state)\n\u001b[1;32m    221\u001b[0m \u001b[39mexcept\u001b[39;00m \u001b[39mTypeError\u001b[39;00m:\n\u001b[1;32m    222\u001b[0m     \u001b[39mraise\u001b[39;00m \u001b[39mTypeError\u001b[39;00m(\u001b[39mf\u001b[39m\u001b[39m\"\u001b[39m\u001b[39m{\u001b[39;00m\u001b[39mself\u001b[39m\u001b[39m.\u001b[39m\u001b[39m__class__\u001b[39m\u001b[39m.\u001b[39m\u001b[39m__name__\u001b[39m\u001b[39m}\u001b[39;00m\u001b[39m doesn\u001b[39m\u001b[39m'\u001b[39m\u001b[39mt support \u001b[39m\u001b[39m{\u001b[39;00mop\u001b[39m!r}\u001b[39;00m\u001b[39m\"\u001b[39m)\n",
      "File \u001b[0;32m/media/disk/Supremacy/xebsim/.venv/lib/python3.11/site-packages/cirq/protocols/act_on_protocol.py:153\u001b[0m, in \u001b[0;36mact_on\u001b[0;34m(action, sim_state, qubits, allow_decompose)\u001b[0m\n\u001b[1;32m    151\u001b[0m \u001b[39mif\u001b[39;00m arg_fallback \u001b[39mis\u001b[39;00m \u001b[39mnot\u001b[39;00m \u001b[39mNone\u001b[39;00m:\n\u001b[1;32m    152\u001b[0m     qubits \u001b[39m=\u001b[39m action\u001b[39m.\u001b[39mqubits \u001b[39mif\u001b[39;00m is_op \u001b[39melse\u001b[39;00m qubits\n\u001b[0;32m--> 153\u001b[0m     result \u001b[39m=\u001b[39m arg_fallback(action, qubits\u001b[39m=\u001b[39;49mqubits, allow_decompose\u001b[39m=\u001b[39;49mallow_decompose)\n\u001b[1;32m    154\u001b[0m     \u001b[39mif\u001b[39;00m result \u001b[39mis\u001b[39;00m \u001b[39mTrue\u001b[39;00m:\n\u001b[1;32m    155\u001b[0m         \u001b[39mreturn\u001b[39;00m\n",
      "File \u001b[0;32m/media/disk/Supremacy/xebsim/.venv/lib/python3.11/site-packages/cirq/sim/simulation_product_state.py:118\u001b[0m, in \u001b[0;36mSimulationProductState._act_on_fallback_\u001b[0;34m(self, action, qubits, allow_decompose)\u001b[0m\n\u001b[1;32m    116\u001b[0m \u001b[39m# Act on the args with the operation\u001b[39;00m\n\u001b[1;32m    117\u001b[0m act_on_qubits \u001b[39m=\u001b[39m qubits \u001b[39mif\u001b[39;00m \u001b[39misinstance\u001b[39m(action, ops\u001b[39m.\u001b[39mGate) \u001b[39melse\u001b[39;00m \u001b[39mNone\u001b[39;00m\n\u001b[0;32m--> 118\u001b[0m protocols\u001b[39m.\u001b[39;49mact_on(action, op_args, act_on_qubits, allow_decompose\u001b[39m=\u001b[39;49mallow_decompose)\n\u001b[1;32m    120\u001b[0m \u001b[39m# Decouple any measurements or resets\u001b[39;00m\n\u001b[1;32m    121\u001b[0m \u001b[39mif\u001b[39;00m \u001b[39mself\u001b[39m\u001b[39m.\u001b[39msplit_untangled_states \u001b[39mand\u001b[39;00m \u001b[39misinstance\u001b[39m(\n\u001b[1;32m    122\u001b[0m     gate_opt, (ops\u001b[39m.\u001b[39mResetChannel, ops\u001b[39m.\u001b[39mMeasurementGate)\n\u001b[1;32m    123\u001b[0m ):\n",
      "File \u001b[0;32m/media/disk/Supremacy/xebsim/.venv/lib/python3.11/site-packages/cirq/protocols/act_on_protocol.py:153\u001b[0m, in \u001b[0;36mact_on\u001b[0;34m(action, sim_state, qubits, allow_decompose)\u001b[0m\n\u001b[1;32m    151\u001b[0m \u001b[39mif\u001b[39;00m arg_fallback \u001b[39mis\u001b[39;00m \u001b[39mnot\u001b[39;00m \u001b[39mNone\u001b[39;00m:\n\u001b[1;32m    152\u001b[0m     qubits \u001b[39m=\u001b[39m action\u001b[39m.\u001b[39mqubits \u001b[39mif\u001b[39;00m is_op \u001b[39melse\u001b[39;00m qubits\n\u001b[0;32m--> 153\u001b[0m     result \u001b[39m=\u001b[39m arg_fallback(action, qubits\u001b[39m=\u001b[39;49mqubits, allow_decompose\u001b[39m=\u001b[39;49mallow_decompose)\n\u001b[1;32m    154\u001b[0m     \u001b[39mif\u001b[39;00m result \u001b[39mis\u001b[39;00m \u001b[39mTrue\u001b[39;00m:\n\u001b[1;32m    155\u001b[0m         \u001b[39mreturn\u001b[39;00m\n",
      "File \u001b[0;32m/media/disk/Supremacy/xebsim/.venv/lib/python3.11/site-packages/cirq/sim/density_matrix_simulation_state.py:300\u001b[0m, in \u001b[0;36mDensityMatrixSimulationState._act_on_fallback_\u001b[0;34m(self, action, qubits, allow_decompose)\u001b[0m\n\u001b[1;32m    298\u001b[0m \u001b[39m# Try each strategy, stopping if one works.\u001b[39;00m\n\u001b[1;32m    299\u001b[0m \u001b[39mfor\u001b[39;00m strat \u001b[39min\u001b[39;00m strats:\n\u001b[0;32m--> 300\u001b[0m     result \u001b[39m=\u001b[39m strat(action, \u001b[39mself\u001b[39;49m, qubits)\n\u001b[1;32m    301\u001b[0m     \u001b[39mif\u001b[39;00m result \u001b[39mis\u001b[39;00m \u001b[39mFalse\u001b[39;00m:\n\u001b[1;32m    302\u001b[0m         \u001b[39mbreak\u001b[39;00m  \u001b[39m# coverage: ignore\u001b[39;00m\n",
      "File \u001b[0;32m/media/disk/Supremacy/xebsim/.venv/lib/python3.11/site-packages/cirq/sim/density_matrix_simulation_state.py:337\u001b[0m, in \u001b[0;36m_strat_apply_channel_to_state\u001b[0;34m(action, args, qubits)\u001b[0m\n\u001b[1;32m    333\u001b[0m \u001b[39mdef\u001b[39;00m \u001b[39m_strat_apply_channel_to_state\u001b[39m(\n\u001b[1;32m    334\u001b[0m     action: Any, args: \u001b[39m'\u001b[39m\u001b[39mcirq.DensityMatrixSimulationState\u001b[39m\u001b[39m'\u001b[39m, qubits: Sequence[\u001b[39m'\u001b[39m\u001b[39mcirq.Qid\u001b[39m\u001b[39m'\u001b[39m]\n\u001b[1;32m    335\u001b[0m ) \u001b[39m-\u001b[39m\u001b[39m>\u001b[39m \u001b[39mbool\u001b[39m:\n\u001b[1;32m    336\u001b[0m \u001b[39m    \u001b[39m\u001b[39m\"\"\"Apply channel to state.\"\"\"\u001b[39;00m\n\u001b[0;32m--> 337\u001b[0m     \u001b[39mif\u001b[39;00m \u001b[39mnot\u001b[39;00m args\u001b[39m.\u001b[39;49m_state\u001b[39m.\u001b[39;49mapply_channel(action, args\u001b[39m.\u001b[39;49mget_axes(qubits)):\n\u001b[1;32m    338\u001b[0m         \u001b[39mreturn\u001b[39;00m \u001b[39mNotImplemented\u001b[39m\n\u001b[1;32m    339\u001b[0m     \u001b[39mreturn\u001b[39;00m \u001b[39mTrue\u001b[39;00m\n",
      "File \u001b[0;32m/media/disk/Supremacy/xebsim/.venv/lib/python3.11/site-packages/cirq/sim/density_matrix_simulation_state.py:168\u001b[0m, in \u001b[0;36m_BufferedDensityMatrix.apply_channel\u001b[0;34m(self, action, axes)\u001b[0m\n\u001b[1;32m    159\u001b[0m \u001b[39mdef\u001b[39;00m \u001b[39mapply_channel\u001b[39m(\u001b[39mself\u001b[39m, action: Any, axes: Sequence[\u001b[39mint\u001b[39m]) \u001b[39m-\u001b[39m\u001b[39m>\u001b[39m \u001b[39mbool\u001b[39m:\n\u001b[1;32m    160\u001b[0m \u001b[39m    \u001b[39m\u001b[39m\"\"\"Apply channel to state.\u001b[39;00m\n\u001b[1;32m    161\u001b[0m \n\u001b[1;32m    162\u001b[0m \u001b[39m    Args:\u001b[39;00m\n\u001b[0;32m   (...)\u001b[0m\n\u001b[1;32m    166\u001b[0m \u001b[39m        True if the action succeeded.\u001b[39;00m\n\u001b[1;32m    167\u001b[0m \u001b[39m    \"\"\"\u001b[39;00m\n\u001b[0;32m--> 168\u001b[0m     result \u001b[39m=\u001b[39m protocols\u001b[39m.\u001b[39;49mapply_channel(\n\u001b[1;32m    169\u001b[0m         action,\n\u001b[1;32m    170\u001b[0m         args\u001b[39m=\u001b[39;49mprotocols\u001b[39m.\u001b[39;49mApplyChannelArgs(\n\u001b[1;32m    171\u001b[0m             target_tensor\u001b[39m=\u001b[39;49m\u001b[39mself\u001b[39;49m\u001b[39m.\u001b[39;49m_density_matrix,\n\u001b[1;32m    172\u001b[0m             out_buffer\u001b[39m=\u001b[39;49m\u001b[39mself\u001b[39;49m\u001b[39m.\u001b[39;49m_buffer[\u001b[39m0\u001b[39;49m],\n\u001b[1;32m    173\u001b[0m             auxiliary_buffer0\u001b[39m=\u001b[39;49m\u001b[39mself\u001b[39;49m\u001b[39m.\u001b[39;49m_buffer[\u001b[39m1\u001b[39;49m],\n\u001b[1;32m    174\u001b[0m             auxiliary_buffer1\u001b[39m=\u001b[39;49m\u001b[39mself\u001b[39;49m\u001b[39m.\u001b[39;49m_buffer[\u001b[39m2\u001b[39;49m],\n\u001b[1;32m    175\u001b[0m             left_axes\u001b[39m=\u001b[39;49maxes,\n\u001b[1;32m    176\u001b[0m             right_axes\u001b[39m=\u001b[39;49m[e \u001b[39m+\u001b[39;49m \u001b[39mlen\u001b[39;49m(\u001b[39mself\u001b[39;49m\u001b[39m.\u001b[39;49m_qid_shape) \u001b[39mfor\u001b[39;49;00m e \u001b[39min\u001b[39;49;00m axes],\n\u001b[1;32m    177\u001b[0m         ),\n\u001b[1;32m    178\u001b[0m         default\u001b[39m=\u001b[39;49m\u001b[39mNone\u001b[39;49;00m,\n\u001b[1;32m    179\u001b[0m     )\n\u001b[1;32m    180\u001b[0m     \u001b[39mif\u001b[39;00m result \u001b[39mis\u001b[39;00m \u001b[39mNone\u001b[39;00m:\n\u001b[1;32m    181\u001b[0m         \u001b[39mreturn\u001b[39;00m \u001b[39mFalse\u001b[39;00m\n",
      "File \u001b[0;32m/media/disk/Supremacy/xebsim/.venv/lib/python3.11/site-packages/cirq/protocols/apply_channel_protocol.py:261\u001b[0m, in \u001b[0;36mapply_channel\u001b[0;34m(val, args, default)\u001b[0m\n\u001b[1;32m    259\u001b[0m ks \u001b[39m=\u001b[39m kraus(val, \u001b[39mNone\u001b[39;00m)\n\u001b[1;32m    260\u001b[0m \u001b[39mif\u001b[39;00m ks \u001b[39mis\u001b[39;00m \u001b[39mnot\u001b[39;00m \u001b[39mNone\u001b[39;00m:\n\u001b[0;32m--> 261\u001b[0m     \u001b[39mreturn\u001b[39;00m _apply_kraus(ks, args)\n\u001b[1;32m    263\u001b[0m \u001b[39m# Don't know how to apply channel. Fallback to specified default behavior.\u001b[39;00m\n\u001b[1;32m    264\u001b[0m \u001b[39mif\u001b[39;00m default \u001b[39mis\u001b[39;00m \u001b[39mnot\u001b[39;00m RaiseTypeErrorIfNotProvided:\n",
      "File \u001b[0;32m/media/disk/Supremacy/xebsim/.venv/lib/python3.11/site-packages/cirq/protocols/apply_channel_protocol.py:307\u001b[0m, in \u001b[0;36m_apply_kraus\u001b[0;34m(kraus, args)\u001b[0m\n\u001b[1;32m    305\u001b[0m \u001b[39m# Special case for single-qubit operations.\u001b[39;00m\n\u001b[1;32m    306\u001b[0m \u001b[39mif\u001b[39;00m \u001b[39mlen\u001b[39m(args\u001b[39m.\u001b[39mleft_axes) \u001b[39m==\u001b[39m \u001b[39m1\u001b[39m \u001b[39mand\u001b[39;00m kraus[\u001b[39m0\u001b[39m]\u001b[39m.\u001b[39mshape \u001b[39m==\u001b[39m (\u001b[39m2\u001b[39m, \u001b[39m2\u001b[39m):\n\u001b[0;32m--> 307\u001b[0m     \u001b[39mreturn\u001b[39;00m _apply_kraus_single_qubit(kraus, args)\n\u001b[1;32m    308\u001b[0m \u001b[39m# Fallback to np.einsum for the general case.\u001b[39;00m\n\u001b[1;32m    309\u001b[0m \u001b[39mreturn\u001b[39;00m _apply_kraus_multi_qubit(kraus, args)\n",
      "File \u001b[0;32m/media/disk/Supremacy/xebsim/.venv/lib/python3.11/site-packages/cirq/protocols/apply_channel_protocol.py:322\u001b[0m, in \u001b[0;36m_apply_kraus_single_qubit\u001b[0;34m(kraus, args)\u001b[0m\n\u001b[1;32m    320\u001b[0m \u001b[39mfor\u001b[39;00m kraus_op \u001b[39min\u001b[39;00m kraus:\n\u001b[1;32m    321\u001b[0m     np\u001b[39m.\u001b[39mcopyto(dst\u001b[39m=\u001b[39margs\u001b[39m.\u001b[39mtarget_tensor, src\u001b[39m=\u001b[39margs\u001b[39m.\u001b[39mauxiliary_buffer0)\n\u001b[0;32m--> 322\u001b[0m     linalg\u001b[39m.\u001b[39;49mapply_matrix_to_slices(\n\u001b[1;32m    323\u001b[0m         args\u001b[39m.\u001b[39;49mtarget_tensor, kraus_op, [zero_left, one_left], out\u001b[39m=\u001b[39;49margs\u001b[39m.\u001b[39;49mauxiliary_buffer1\n\u001b[1;32m    324\u001b[0m     )\n\u001b[1;32m    325\u001b[0m     \u001b[39m# No need to transpose as we are acting on the tensor\u001b[39;00m\n\u001b[1;32m    326\u001b[0m     \u001b[39m# representation of matrix, so transpose is done for us.\u001b[39;00m\n\u001b[1;32m    327\u001b[0m     linalg\u001b[39m.\u001b[39mapply_matrix_to_slices(\n\u001b[1;32m    328\u001b[0m         args\u001b[39m.\u001b[39mauxiliary_buffer1,\n\u001b[1;32m    329\u001b[0m         np\u001b[39m.\u001b[39mconjugate(kraus_op),\n\u001b[1;32m    330\u001b[0m         [zero_right, one_right],\n\u001b[1;32m    331\u001b[0m         out\u001b[39m=\u001b[39margs\u001b[39m.\u001b[39mtarget_tensor,\n\u001b[1;32m    332\u001b[0m     )\n",
      "File \u001b[0;32m/media/disk/Supremacy/xebsim/.venv/lib/python3.11/site-packages/cirq/linalg/transformations.py:375\u001b[0m, in \u001b[0;36mapply_matrix_to_slices\u001b[0;34m(target, matrix, slices, out)\u001b[0m\n\u001b[1;32m    373\u001b[0m \u001b[39mfor\u001b[39;00m i, s_i \u001b[39min\u001b[39;00m \u001b[39menumerate\u001b[39m(slices):\n\u001b[1;32m    374\u001b[0m     out[s_i] \u001b[39m*\u001b[39m\u001b[39m=\u001b[39m matrix[i, i]  \u001b[39m# type: ignore[index]\u001b[39;00m\n\u001b[0;32m--> 375\u001b[0m     \u001b[39mfor\u001b[39;00m j, s_j \u001b[39min\u001b[39;00m \u001b[39menumerate\u001b[39m(slices):\n\u001b[1;32m    376\u001b[0m         \u001b[39mif\u001b[39;00m i \u001b[39m!=\u001b[39m j:\n\u001b[1;32m    377\u001b[0m             out[s_i] \u001b[39m+\u001b[39m\u001b[39m=\u001b[39m target[s_j] \u001b[39m*\u001b[39m matrix[i, j]  \u001b[39m# type: ignore[index]\u001b[39;00m\n",
      "\u001b[0;31mKeyboardInterrupt\u001b[0m: "
     ]
    }
   ],
   "source": [
    "res = {}\n",
    "ns = [6, 8, 10]\n",
    "# ns = [12]\n",
    "n_circuits = 10\n",
    "for n in ns:\n",
    "    qubits = cirq.LineQubit.range(n)\n",
    "    circuits = [\n",
    "        gen_1d_chain_xeb_random_circuit(\n",
    "            qubits,\n",
    "            depth=MAX_DEPTH,\n",
    "            single_qubit_gates=SINGLE_QUBIT_GATES,\n",
    "            two_qubit_op_factory=lambda a, b, _: cirq.SQRT_ISWAP(a, b)\n",
    "        )\n",
    "        for _ in range(n_circuits)\n",
    "    ]\n",
    "\n",
    "    cycle_xebs = [\n",
    "        large_scale_xeb_sim(circuit, noise_model, cycle_depths=cycle_depths)\n",
    "        for circuit in circuits\n",
    "    ]\n",
    "    res[n] = cycle_xebs"
   ]
  },
  {
   "cell_type": "code",
   "execution_count": 1,
   "id": "ffe1a3e7c205d23d",
   "metadata": {
    "ExecuteTime": {
     "end_time": "2023-09-21T08:21:39.944577Z",
     "start_time": "2023-09-21T08:21:39.792124Z"
    },
    "collapsed": false
   },
   "outputs": [
    {
     "ename": "NameError",
     "evalue": "name 'ns' is not defined",
     "output_type": "error",
     "traceback": [
      "\u001b[0;31m---------------------------------------------------------------------------\u001b[0m",
      "\u001b[0;31mNameError\u001b[0m                                 Traceback (most recent call last)",
      "\u001b[1;32m/home/cuquantum/xebsim/notebooks/1d_chain.ipynb 单元格 4\u001b[0m line \u001b[0;36m3\n\u001b[1;32m      <a href='vscode-notebook-cell://attached-container%2B7b22636f6e7461696e65724e616d65223a222f65637374617469635f63686174656c6574222c2273657474696e6773223a7b22686f7374223a227373683a2f2f3137322e31362e33302e313837227d7d/home/cuquantum/xebsim/notebooks/1d_chain.ipynb#W3sdnNjb2RlLXJlbW90ZQ%3D%3D?line=0'>1</a>\u001b[0m \u001b[39mimport\u001b[39;00m \u001b[39mmatplotlib\u001b[39;00m\u001b[39m.\u001b[39;00m\u001b[39mpyplot\u001b[39;00m \u001b[39mas\u001b[39;00m \u001b[39mplt\u001b[39;00m\n\u001b[0;32m----> <a href='vscode-notebook-cell://attached-container%2B7b22636f6e7461696e65724e616d65223a222f65637374617469635f63686174656c6574222c2273657474696e6773223a7b22686f7374223a227373683a2f2f3137322e31362e33302e313837227d7d/home/cuquantum/xebsim/notebooks/1d_chain.ipynb#W3sdnNjb2RlLXJlbW90ZQ%3D%3D?line=2'>3</a>\u001b[0m \u001b[39mfor\u001b[39;00m n \u001b[39min\u001b[39;00m ns:\n\u001b[1;32m      <a href='vscode-notebook-cell://attached-container%2B7b22636f6e7461696e65724e616d65223a222f65637374617469635f63686174656c6574222c2273657474696e6773223a7b22686f7374223a227373683a2f2f3137322e31362e33302e313837227d7d/home/cuquantum/xebsim/notebooks/1d_chain.ipynb#W3sdnNjb2RlLXJlbW90ZQ%3D%3D?line=3'>4</a>\u001b[0m     cycle_xebs \u001b[39m=\u001b[39m np\u001b[39m.\u001b[39mmean(res[n], axis\u001b[39m=\u001b[39m\u001b[39m0\u001b[39m)\n\u001b[1;32m      <a href='vscode-notebook-cell://attached-container%2B7b22636f6e7461696e65724e616d65223a222f65637374617469635f63686174656c6574222c2273657474696e6773223a7b22686f7374223a227373683a2f2f3137322e31362e33302e313837227d7d/home/cuquantum/xebsim/notebooks/1d_chain.ipynb#W3sdnNjb2RlLXJlbW90ZQ%3D%3D?line=4'>5</a>\u001b[0m     plt\u001b[39m.\u001b[39mplot(cycle_depths, cycle_xebs, label\u001b[39m=\u001b[39m\u001b[39mf\u001b[39m\u001b[39m'\u001b[39m\u001b[39m{\u001b[39;00mn\u001b[39m}\u001b[39;00m\u001b[39m qubits\u001b[39m\u001b[39m'\u001b[39m, marker\u001b[39m=\u001b[39m\u001b[39m'\u001b[39m\u001b[39mo\u001b[39m\u001b[39m'\u001b[39m)\n",
      "\u001b[0;31mNameError\u001b[0m: name 'ns' is not defined"
     ]
    }
   ],
   "source": [
    "import matplotlib.pyplot as plt\n",
    "\n",
    "for n in ns:\n",
    "    cycle_xebs = np.mean(res[n], axis=0)\n",
    "    plt.plot(cycle_depths, cycle_xebs, label=f'{n} qubits', marker='o')\n",
    "plt.yscale('log')\n",
    "plt.yticks(np.logspace(-2, 4, num=7))\n",
    "plt.legend()\n",
    "plt.title('1D chain')\n",
    "plt.xlabel(\"Depth\")\n",
    "plt.ylabel(\"Linear XEB\")\n",
    "plt.show()\n"
   ]
  },
  {
   "cell_type": "code",
   "execution_count": 5,
   "id": "7d17bef6",
   "metadata": {},
   "outputs": [
    {
     "name": "stderr",
     "output_type": "stream",
     "text": [
      "/media/disk/Supremacy/xebsim/.venv/lib/python3.11/site-packages/scipy/optimize/_lsq/common.py:49: RuntimeWarning: invalid value encountered in scalar divide\n",
      "  t2 = c / q\n"
     ]
    },
    {
     "data": {
      "text/plain": [
       "(0.9999999999999999,\n",
       " 0.9062271474006709,\n",
       " 0.3768167510353321,\n",
       " 0.01864689434307791)"
      ]
     },
     "execution_count": 5,
     "metadata": {},
     "output_type": "execute_result"
    }
   ],
   "source": [
    "from sim.utils import _fit_exponential_decay\n",
    "\n",
    "_fit_exponential_decay(cycle_depths[15:], np.mean(res[6], axis=0)[15:])"
   ]
  },
  {
   "cell_type": "code",
   "execution_count": 10,
   "id": "17f38767",
   "metadata": {},
   "outputs": [
    {
     "data": {
      "text/plain": [
       "0.922619730810557"
      ]
     },
     "execution_count": 10,
     "metadata": {},
     "output_type": "execute_result"
    }
   ],
   "source": [
    "(1 - e_dep) ** 6"
   ]
  }
 ],
 "metadata": {
  "kernelspec": {
   "display_name": "Python 3",
   "language": "python",
   "name": "python3"
  },
  "language_info": {
   "codemirror_mode": {
    "name": "ipython",
    "version": 3
   },
   "file_extension": ".py",
   "mimetype": "text/x-python",
   "name": "python",
   "nbconvert_exporter": "python",
   "pygments_lexer": "ipython3",
   "version": "3.11.4"
  }
 },
 "nbformat": 4,
 "nbformat_minor": 5
}
