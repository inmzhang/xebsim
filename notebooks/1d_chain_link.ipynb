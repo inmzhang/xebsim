{
 "cells": [
  {
   "cell_type": "code",
   "execution_count": 5,
   "metadata": {},
   "outputs": [],
   "source": [
    "import itertools\n",
    "import collections\n",
    "\n",
    "import cirq\n",
    "import numpy as np\n",
    "import sys\n",
    "sys.path.append(\"..\")\n",
    "\n",
    "from sim.circuit import gen_1d_chain_weak_link_random_circuit\n",
    "from sim.simulate import large_scale_xeb_sim"
   ]
  },
  {
   "cell_type": "code",
   "execution_count": 2,
   "metadata": {},
   "outputs": [],
   "source": [
    "exponents = np.linspace(0, 7/4, 8)\n",
    "SINGLE_QUBIT_GATES = tuple(\n",
    "    cirq.PhasedXZGate(x_exponent=0.5, z_exponent=z, axis_phase_exponent=a)\n",
    "    for a, z in itertools.product(exponents, repeat=2)\n",
    ")\n",
    "\n",
    "MAX_DEPTH = 100\n"
   ]
  },
  {
   "cell_type": "code",
   "execution_count": 10,
   "metadata": {},
   "outputs": [],
   "source": [
    "res = {}\n",
    "N = 8\n",
    "link_freq = 8\n",
    "n_circuits = 5\n",
    "qubits = cirq.LineQubit.range(N)\n",
    "circuits = [gen_1d_chain_weak_link_random_circuit\n",
    "    (\n",
    "        qubits,\n",
    "        depth=MAX_DEPTH,\n",
    "        link_frequency=link_freq,\n",
    "        single_qubit_gates=SINGLE_QUBIT_GATES,\n",
    "        two_qubit_op_factory=lambda a, b, _: cirq.SQRT_ISWAP(a, b)\n",
    "    )\n",
    "    for _ in range(n_circuits)\n",
    "]"
   ]
  },
  {
   "cell_type": "code",
   "execution_count": 14,
   "metadata": {},
   "outputs": [
    {
     "name": "stderr",
     "output_type": "stream",
     "text": [
      "8 qubits pure state simulation: 100%|██████████| 65/65 [00:00<00:00, 914.03it/s]\n",
      "8 qubits noisy state simulation: 100%|██████████| 65/65 [00:02<00:00, 23.00it/s] \n",
      "8 qubits pure state simulation: 100%|██████████| 65/65 [00:00<00:00, 1157.39it/s]\n",
      "8 qubits noisy state simulation: 100%|██████████| 65/65 [00:02<00:00, 26.29it/s] \n",
      "8 qubits pure state simulation: 100%|██████████| 65/65 [00:00<00:00, 1157.84it/s]\n",
      "8 qubits noisy state simulation: 100%|██████████| 65/65 [00:02<00:00, 26.25it/s] \n",
      "8 qubits pure state simulation: 100%|██████████| 65/65 [00:00<00:00, 1123.01it/s]\n",
      "8 qubits noisy state simulation: 100%|██████████| 65/65 [00:02<00:00, 26.41it/s] \n",
      "8 qubits pure state simulation: 100%|██████████| 65/65 [00:00<00:00, 1158.35it/s]\n",
      "8 qubits noisy state simulation: 100%|██████████| 65/65 [00:02<00:00, 26.28it/s] \n"
     ]
    }
   ],
   "source": [
    "cycle_depths = [18, 26, 32]\n",
    "res = collections.defaultdict(list)\n",
    "\n",
    "e_paulis = np.linspace(5e-3, 2.5e-2, 1)\n",
    "for e_pauli in e_paulis:\n",
    "    e_dep = e_pauli / (1 - 1/2**2)\n",
    "    noise_model = cirq.devices.noise_model.ConstantQubitNoiseModel(cirq.depolarize(e_pauli))\n",
    "    \n",
    "    xebs = np.mean([\n",
    "        large_scale_xeb_sim(circuit, noise_model, cycle_depths=cycle_depths)\n",
    "        for circuit in circuits\n",
    "    ], axis=0)\n",
    "    for i, d in enumerate(cycle_depths):\n",
    "        estimated_fidelity = (1 - e_dep) ** ((2 * d + 1) * N)\n",
    "        ratio = estimated_fidelity / xebs[i]\n",
    "        res[d].append(ratio)\n"
   ]
  },
  {
   "cell_type": "code",
   "execution_count": 15,
   "metadata": {},
   "outputs": [
    {
     "data": {
      "text/plain": [
       "defaultdict(list,\n",
       "            {18: [0.19859533014684436],\n",
       "             26: [0.1888538733423016],\n",
       "             32: [0.19805309415401806]})"
      ]
     },
     "execution_count": 15,
     "metadata": {},
     "output_type": "execute_result"
    }
   ],
   "source": [
    "res"
   ]
  }
 ],
 "metadata": {
  "kernelspec": {
   "display_name": "cuquantum-23.06",
   "language": "python",
   "name": "python3"
  },
  "language_info": {
   "codemirror_mode": {
    "name": "ipython",
    "version": 3
   },
   "file_extension": ".py",
   "mimetype": "text/x-python",
   "name": "python",
   "nbconvert_exporter": "python",
   "pygments_lexer": "ipython3",
   "version": "3.9.16"
  },
  "orig_nbformat": 4
 },
 "nbformat": 4,
 "nbformat_minor": 2
}
