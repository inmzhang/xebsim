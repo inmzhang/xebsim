{
 "cells": [
  {
   "cell_type": "code",
   "execution_count": 6,
   "id": "123b6c4ff8205057",
   "metadata": {
    "ExecuteTime": {
     "end_time": "2023-09-21T07:21:44.023521Z",
     "start_time": "2023-09-21T07:21:35.960311Z"
    },
    "collapsed": false
   },
   "outputs": [],
   "source": [
    "import sys\n",
    "sys.path.append(\"..\")\n",
    "\n",
    "from sim.noise import *\n",
    "from sim.circuit import *\n",
    "from sim.simulate import *\n",
    "import cirq\n",
    "import numpy as np\n",
    "\n",
    "max_depth = 100\n",
    "n_circuits = 200\n",
    "q0 = cirq.LineQubit(0)\n",
    "circuits = [\n",
    "    gen_single_qubit_xeb_random_circuit(q0, depth=max_depth)\n",
    "    for _ in range(n_circuits)\n",
    "]\n",
    "cycle_depths = np.arange(1, max_depth + 1, 10)\n",
    "# noise_amplitude_mrads = np.linspace(15, 60, 16)\n",
    "e_pauli = 1e-3\n",
    "e_dep = e_pauli / (1 - 1/2**2)"
   ]
  },
  {
   "cell_type": "code",
   "execution_count": 7,
   "id": "7c08e86caff180df",
   "metadata": {
    "ExecuteTime": {
     "end_time": "2023-09-21T07:23:17.973914Z",
     "start_time": "2023-09-21T07:21:45.669542Z"
    },
    "collapsed": false
   },
   "outputs": [
    {
     "name": "stdout",
     "output_type": "stream",
     "text": [
      "noise amplitude: 0\n"
     ]
    }
   ],
   "source": [
    "amps = np.linspace(15, 55, 8)\n",
    "amps = [0]\n",
    "dep_error_rates = []\n",
    "dep_error_rate_stds = []\n",
    "for amp in amps:\n",
    "    print(f\"noise amplitude: {amp}\")\n",
    "    noise = MixedNoiseModel(p=e_pauli, noise_amplitude_mrad=amp)\n",
    "    # dep_error_rate, error_std = simulate_with_noise_model(circuits, noise, cycle_depths=cycle_depths, shots=1_000)\n",
    "    dep_error_rate, error_std = single_qubit_xeb_sim(circuits, noise, cycle_depths=cycle_depths)\n",
    "    dep_error_rates.append(dep_error_rate)\n",
    "    dep_error_rate_stds.append(error_std)"
   ]
  },
  {
   "cell_type": "code",
   "execution_count": 8,
   "id": "7f7503f9",
   "metadata": {},
   "outputs": [
    {
     "data": {
      "text/plain": [
       "0.0013334440221466348"
      ]
     },
     "execution_count": 8,
     "metadata": {},
     "output_type": "execute_result"
    }
   ],
   "source": [
    "dep_error_rate"
   ]
  },
  {
   "cell_type": "code",
   "execution_count": 9,
   "id": "b603aec2",
   "metadata": {},
   "outputs": [
    {
     "data": {
      "text/plain": [
       "0.0013333333333333333"
      ]
     },
     "execution_count": 9,
     "metadata": {},
     "output_type": "execute_result"
    }
   ],
   "source": [
    "e_dep"
   ]
  },
  {
   "cell_type": "code",
   "execution_count": 4,
   "id": "ba9cc81623f6d04e",
   "metadata": {
    "ExecuteTime": {
     "end_time": "2023-09-21T07:23:19.979071Z",
     "start_time": "2023-09-21T07:23:19.869961Z"
    },
    "collapsed": false
   },
   "outputs": [
    {
     "ename": "TypeError",
     "evalue": "Improper input: func input vector length N=3 must not exceed func output vector length M=1",
     "output_type": "error",
     "traceback": [
      "\u001b[0;31m---------------------------------------------------------------------------\u001b[0m",
      "\u001b[0;31mTypeError\u001b[0m                                 Traceback (most recent call last)",
      "Cell \u001b[0;32mIn[4], line 7\u001b[0m\n\u001b[1;32m      4\u001b[0m \u001b[39mdef\u001b[39;00m \u001b[39mparabolic\u001b[39m(x, a, b, c):\n\u001b[1;32m      5\u001b[0m     \u001b[39mreturn\u001b[39;00m a \u001b[39m*\u001b[39m x\u001b[39m*\u001b[39m\u001b[39m*\u001b[39m\u001b[39m2\u001b[39m \u001b[39m+\u001b[39m b \u001b[39m*\u001b[39m x \u001b[39m+\u001b[39m c\n\u001b[0;32m----> 7\u001b[0m popt, pcov \u001b[39m=\u001b[39m curve_fit(parabolic, amps, dep_error_rates)\n\u001b[1;32m      9\u001b[0m plt\u001b[39m.\u001b[39mscatter(amps, dep_error_rates)\n\u001b[1;32m     10\u001b[0m plt\u001b[39m.\u001b[39mplot(amps, parabolic(amps, \u001b[39m*\u001b[39mpopt))\n",
      "File \u001b[0;32m/media/disk/Supremacy/xebsim/.venv/lib/python3.11/site-packages/scipy/optimize/_minpack_py.py:963\u001b[0m, in \u001b[0;36mcurve_fit\u001b[0;34m(f, xdata, ydata, p0, sigma, absolute_sigma, check_finite, bounds, method, jac, full_output, nan_policy, **kwargs)\u001b[0m\n\u001b[1;32m    960\u001b[0m \u001b[39mif\u001b[39;00m ydata\u001b[39m.\u001b[39msize \u001b[39m!=\u001b[39m \u001b[39m1\u001b[39m \u001b[39mand\u001b[39;00m n \u001b[39m>\u001b[39m ydata\u001b[39m.\u001b[39msize:\n\u001b[1;32m    961\u001b[0m     \u001b[39mraise\u001b[39;00m \u001b[39mTypeError\u001b[39;00m(\u001b[39mf\u001b[39m\u001b[39m\"\u001b[39m\u001b[39mThe number of func parameters=\u001b[39m\u001b[39m{\u001b[39;00mn\u001b[39m}\u001b[39;00m\u001b[39m must not\u001b[39m\u001b[39m\"\u001b[39m\n\u001b[1;32m    962\u001b[0m                     \u001b[39mf\u001b[39m\u001b[39m\"\u001b[39m\u001b[39m exceed the number of data points=\u001b[39m\u001b[39m{\u001b[39;00mydata\u001b[39m.\u001b[39msize\u001b[39m}\u001b[39;00m\u001b[39m\"\u001b[39m)\n\u001b[0;32m--> 963\u001b[0m res \u001b[39m=\u001b[39m leastsq(func, p0, Dfun\u001b[39m=\u001b[39;49mjac, full_output\u001b[39m=\u001b[39;49m\u001b[39m1\u001b[39;49m, \u001b[39m*\u001b[39;49m\u001b[39m*\u001b[39;49mkwargs)\n\u001b[1;32m    964\u001b[0m popt, pcov, infodict, errmsg, ier \u001b[39m=\u001b[39m res\n\u001b[1;32m    965\u001b[0m ysize \u001b[39m=\u001b[39m \u001b[39mlen\u001b[39m(infodict[\u001b[39m'\u001b[39m\u001b[39mfvec\u001b[39m\u001b[39m'\u001b[39m])\n",
      "File \u001b[0;32m/media/disk/Supremacy/xebsim/.venv/lib/python3.11/site-packages/scipy/optimize/_minpack_py.py:419\u001b[0m, in \u001b[0;36mleastsq\u001b[0;34m(func, x0, args, Dfun, full_output, col_deriv, ftol, xtol, gtol, maxfev, epsfcn, factor, diag)\u001b[0m\n\u001b[1;32m    416\u001b[0m m \u001b[39m=\u001b[39m shape[\u001b[39m0\u001b[39m]\n\u001b[1;32m    418\u001b[0m \u001b[39mif\u001b[39;00m n \u001b[39m>\u001b[39m m:\n\u001b[0;32m--> 419\u001b[0m     \u001b[39mraise\u001b[39;00m \u001b[39mTypeError\u001b[39;00m(\u001b[39mf\u001b[39m\u001b[39m\"\u001b[39m\u001b[39mImproper input: func input vector length N=\u001b[39m\u001b[39m{\u001b[39;00mn\u001b[39m}\u001b[39;00m\u001b[39m must\u001b[39m\u001b[39m\"\u001b[39m\n\u001b[1;32m    420\u001b[0m                     \u001b[39mf\u001b[39m\u001b[39m\"\u001b[39m\u001b[39m not exceed func output vector length M=\u001b[39m\u001b[39m{\u001b[39;00mm\u001b[39m}\u001b[39;00m\u001b[39m\"\u001b[39m)\n\u001b[1;32m    422\u001b[0m \u001b[39mif\u001b[39;00m epsfcn \u001b[39mis\u001b[39;00m \u001b[39mNone\u001b[39;00m:\n\u001b[1;32m    423\u001b[0m     epsfcn \u001b[39m=\u001b[39m finfo(dtype)\u001b[39m.\u001b[39meps\n",
      "\u001b[0;31mTypeError\u001b[0m: Improper input: func input vector length N=3 must not exceed func output vector length M=1"
     ]
    }
   ],
   "source": [
    "import matplotlib.pyplot as plt\n",
    "from scipy.optimize import curve_fit\n",
    "\n",
    "def parabolic(x, a, b, c):\n",
    "    return a * x**2 + b * x + c\n",
    "\n",
    "popt, pcov = curve_fit(parabolic, amps, dep_error_rates)\n",
    "\n",
    "plt.scatter(amps, dep_error_rates)\n",
    "plt.plot(amps, parabolic(amps, *popt))"
   ]
  }
 ],
 "metadata": {
  "kernelspec": {
   "display_name": "Python 3",
   "language": "python",
   "name": "python3"
  },
  "language_info": {
   "codemirror_mode": {
    "name": "ipython",
    "version": 3
   },
   "file_extension": ".py",
   "mimetype": "text/x-python",
   "name": "python",
   "nbconvert_exporter": "python",
   "pygments_lexer": "ipython3",
   "version": "3.11.4"
  }
 },
 "nbformat": 4,
 "nbformat_minor": 5
}
