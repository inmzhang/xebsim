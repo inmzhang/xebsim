{
 "cells": [
  {
   "cell_type": "code",
   "execution_count": 2,
   "metadata": {},
   "outputs": [
    {
     "name": "stdout",
     "output_type": "stream",
     "text": [
      "Running simulation for the following circuit:\n",
      "0: ───H───@───\n",
      "          │\n",
      "1: ───────X───\n",
      "qsim results:\n",
      "[(0.7071067690849304+0j), 0j]\n"
     ]
    }
   ],
   "source": [
    "# Import Cirq and qsim\n",
    "import cirq\n",
    "import qsimcirq\n",
    "\n",
    "# Instantiate qubits and create a circuit\n",
    "q0, q1 = cirq.LineQubit.range(2)\n",
    "circuit = cirq.Circuit(cirq.H(q0), cirq.CX(q0, q1))\n",
    "\n",
    "# Instantiate a simulator that uses the GPU\n",
    "# xx = 0 for Option 1, 1 for Option 2, or the number of GPUs for Option 3.\n",
    "gpu_options = qsimcirq.QSimOptions(disable_gpu=False, gpu_mode = 1, max_fused_gate_size=4)\n",
    "qsim_simulator = qsimcirq.QSimSimulator(qsim_options=gpu_options)\n",
    "\n",
    "# Run the simulation\n",
    "print(\"Running simulation for the following circuit:\")\n",
    "print(circuit)\n",
    "\n",
    "qsim_results = qsim_simulator.compute_amplitudes(\n",
    "    circuit, bitstrings=[0b00, 0b01])\n",
    "\n",
    "print(\"qsim results:\")\n",
    "print(qsim_results)\n"
   ]
  }
 ],
 "metadata": {
  "kernelspec": {
   "display_name": "cuquantum-23.06",
   "language": "python",
   "name": "python3"
  },
  "language_info": {
   "codemirror_mode": {
    "name": "ipython",
    "version": 3
   },
   "file_extension": ".py",
   "mimetype": "text/x-python",
   "name": "python",
   "nbconvert_exporter": "python",
   "pygments_lexer": "ipython3",
   "version": "3.9.16"
  },
  "orig_nbformat": 4
 },
 "nbformat": 4,
 "nbformat_minor": 2
}
